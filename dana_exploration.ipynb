{
 "cells": [
  {
   "cell_type": "code",
   "execution_count": 3,
   "metadata": {
    "collapsed": true
   },
   "outputs": [],
   "source": [
    "import numpy as np\n",
    "import pandas as pd\n",
    "import matplotlib.pyplot as plt\n",
    "\n",
    "%matplotlib inline"
   ]
  },
  {
   "cell_type": "code",
   "execution_count": 4,
   "metadata": {
    "collapsed": false
   },
   "outputs": [
    {
     "name": "stderr",
     "output_type": "stream",
     "text": [
      "/usr/local/lib/python2.7/site-packages/IPython/core/interactiveshell.py:2717: DtypeWarning: Columns (13,39,40,41) have mixed types. Specify dtype option on import or set low_memory=False.\n",
      "  interactivity=interactivity, compiler=compiler, result=result)\n"
     ]
    }
   ],
   "source": [
    "df = pd.read_csv('unzipped_data/Train.csv')"
   ]
  },
  {
   "cell_type": "code",
   "execution_count": 10,
   "metadata": {
    "collapsed": false
   },
   "outputs": [
    {
     "name": "stdout",
     "output_type": "stream",
     "text": [
      "fiModelSeries\n",
      "Coupler_System\n",
      "Grouser_Tracks\n",
      "Hydraulics_Flow\n"
     ]
    }
   ],
   "source": [
    "cols = df.columns.values.tolist()\n",
    "print cols[13] \n",
    "print cols[39]\n",
    "print cols[40]\n",
    "print cols[41]\n"
   ]
  },
  {
   "cell_type": "code",
   "execution_count": 15,
   "metadata": {
    "collapsed": false
   },
   "outputs": [
    {
     "data": {
      "text/html": [
       "<div>\n",
       "<table border=\"1\" class=\"dataframe\">\n",
       "  <thead>\n",
       "    <tr style=\"text-align: right;\">\n",
       "      <th></th>\n",
       "      <th>SalesID</th>\n",
       "      <th>SalePrice</th>\n",
       "      <th>MachineID</th>\n",
       "      <th>ModelID</th>\n",
       "      <th>datasource</th>\n",
       "      <th>auctioneerID</th>\n",
       "      <th>YearMade</th>\n",
       "      <th>MachineHoursCurrentMeter</th>\n",
       "      <th>UsageBand</th>\n",
       "      <th>saledate</th>\n",
       "      <th>...</th>\n",
       "      <th>Undercarriage_Pad_Width</th>\n",
       "      <th>Stick_Length</th>\n",
       "      <th>Thumb</th>\n",
       "      <th>Pattern_Changer</th>\n",
       "      <th>Grouser_Type</th>\n",
       "      <th>Backhoe_Mounting</th>\n",
       "      <th>Blade_Type</th>\n",
       "      <th>Travel_Controls</th>\n",
       "      <th>Differential_Type</th>\n",
       "      <th>Steering_Controls</th>\n",
       "    </tr>\n",
       "    <tr>\n",
       "      <th>Coupler_System</th>\n",
       "      <th></th>\n",
       "      <th></th>\n",
       "      <th></th>\n",
       "      <th></th>\n",
       "      <th></th>\n",
       "      <th></th>\n",
       "      <th></th>\n",
       "      <th></th>\n",
       "      <th></th>\n",
       "      <th></th>\n",
       "      <th></th>\n",
       "      <th></th>\n",
       "      <th></th>\n",
       "      <th></th>\n",
       "      <th></th>\n",
       "      <th></th>\n",
       "      <th></th>\n",
       "      <th></th>\n",
       "      <th></th>\n",
       "      <th></th>\n",
       "      <th></th>\n",
       "    </tr>\n",
       "  </thead>\n",
       "  <tbody>\n",
       "    <tr>\n",
       "      <th>None or Unspecified</th>\n",
       "      <td>40430</td>\n",
       "      <td>40430</td>\n",
       "      <td>40430</td>\n",
       "      <td>40430</td>\n",
       "      <td>40430</td>\n",
       "      <td>39011</td>\n",
       "      <td>40430</td>\n",
       "      <td>14005</td>\n",
       "      <td>8694</td>\n",
       "      <td>40430</td>\n",
       "      <td>...</td>\n",
       "      <td>0</td>\n",
       "      <td>0</td>\n",
       "      <td>0</td>\n",
       "      <td>0</td>\n",
       "      <td>0</td>\n",
       "      <td>0</td>\n",
       "      <td>0</td>\n",
       "      <td>0</td>\n",
       "      <td>0</td>\n",
       "      <td>0</td>\n",
       "    </tr>\n",
       "    <tr>\n",
       "      <th>Yes</th>\n",
       "      <td>3028</td>\n",
       "      <td>3028</td>\n",
       "      <td>3028</td>\n",
       "      <td>3028</td>\n",
       "      <td>3028</td>\n",
       "      <td>2679</td>\n",
       "      <td>3028</td>\n",
       "      <td>2796</td>\n",
       "      <td>2062</td>\n",
       "      <td>3028</td>\n",
       "      <td>...</td>\n",
       "      <td>0</td>\n",
       "      <td>0</td>\n",
       "      <td>0</td>\n",
       "      <td>0</td>\n",
       "      <td>0</td>\n",
       "      <td>0</td>\n",
       "      <td>0</td>\n",
       "      <td>0</td>\n",
       "      <td>0</td>\n",
       "      <td>0</td>\n",
       "    </tr>\n",
       "  </tbody>\n",
       "</table>\n",
       "<p>2 rows × 52 columns</p>\n",
       "</div>"
      ],
      "text/plain": [
       "                     SalesID  SalePrice  MachineID  ModelID  datasource  \\\n",
       "Coupler_System                                                            \n",
       "None or Unspecified    40430      40430      40430    40430       40430   \n",
       "Yes                     3028       3028       3028     3028        3028   \n",
       "\n",
       "                     auctioneerID  YearMade  MachineHoursCurrentMeter  \\\n",
       "Coupler_System                                                          \n",
       "None or Unspecified         39011     40430                     14005   \n",
       "Yes                          2679      3028                      2796   \n",
       "\n",
       "                     UsageBand  saledate        ...          \\\n",
       "Coupler_System                                  ...           \n",
       "None or Unspecified       8694     40430        ...           \n",
       "Yes                       2062      3028        ...           \n",
       "\n",
       "                     Undercarriage_Pad_Width  Stick_Length  Thumb  \\\n",
       "Coupler_System                                                      \n",
       "None or Unspecified                        0             0      0   \n",
       "Yes                                        0             0      0   \n",
       "\n",
       "                     Pattern_Changer  Grouser_Type  Backhoe_Mounting  \\\n",
       "Coupler_System                                                         \n",
       "None or Unspecified                0             0                 0   \n",
       "Yes                                0             0                 0   \n",
       "\n",
       "                     Blade_Type  Travel_Controls  Differential_Type  \\\n",
       "Coupler_System                                                        \n",
       "None or Unspecified           0                0                  0   \n",
       "Yes                           0                0                  0   \n",
       "\n",
       "                     Steering_Controls  \n",
       "Coupler_System                          \n",
       "None or Unspecified                  0  \n",
       "Yes                                  0  \n",
       "\n",
       "[2 rows x 52 columns]"
      ]
     },
     "execution_count": 15,
     "metadata": {},
     "output_type": "execute_result"
    }
   ],
   "source": [
    "df.groupby('fiModelSeries').count()\n",
    "#debating dropping\n",
    "df.groupby('Coupler_System').count()\n"
   ]
  },
  {
   "cell_type": "code",
   "execution_count": null,
   "metadata": {
    "collapsed": true
   },
   "outputs": [],
   "source": []
  }
 ],
 "metadata": {
  "kernelspec": {
   "display_name": "Python 2",
   "language": "python",
   "name": "python2"
  },
  "language_info": {
   "codemirror_mode": {
    "name": "ipython",
    "version": 2
   },
   "file_extension": ".py",
   "mimetype": "text/x-python",
   "name": "python",
   "nbconvert_exporter": "python",
   "pygments_lexer": "ipython2",
   "version": "2.7.12"
  }
 },
 "nbformat": 4,
 "nbformat_minor": 2
}
